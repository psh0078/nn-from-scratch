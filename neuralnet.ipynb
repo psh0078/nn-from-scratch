{
 "cells": [
  {
   "cell_type": "code",
   "execution_count": 4,
   "metadata": {},
   "outputs": [],
   "source": [
    "import numpy as np"
   ]
  },
  {
   "cell_type": "code",
   "execution_count": 30,
   "metadata": {},
   "outputs": [],
   "source": [
    "def sigmoid(x):\n",
    "    return 1 / (1 + np.exp(-x))\n",
    "\n",
    "def sigmoidPrime(x):\n",
    "    fx = sigmoid(x)\n",
    "    return fx * (1 - fx)"
   ]
  },
  {
   "cell_type": "code",
   "execution_count": 8,
   "metadata": {},
   "outputs": [],
   "source": [
    "class Neural:\n",
    "    def __init__(self, weights, bias) -> None:\n",
    "        self.weights = weights\n",
    "        self.bias = bias\n",
    "    def feedforward(self, input):\n",
    "        total = np.dot(self.weights, input) + self.bias\n",
    "        return sigmoid(total)"
   ]
  },
  {
   "cell_type": "code",
   "execution_count": 22,
   "metadata": {},
   "outputs": [],
   "source": [
    "class NeuralNet:\n",
    "    def __init__(self):\n",
    "        weights = np.array([1.0, 1.0, 1.0])\n",
    "        bias = 0\n",
    "    \n",
    "        self.h1 = Neural(weights, bias)\n",
    "        self.h2 = Neural(weights, bias)\n",
    "        self.h3 = Neural(weights, bias)\n",
    "        self.o1 = Neural(weights, bias)\n",
    "\n",
    "    def feedforward(self, input):\n",
    "        out_h1 = self.h1.feedforward(input)\n",
    "        out_h2 = self.h2.feedforward(input)\n",
    "        out_h3 = self.h3.feedforward(input)\n",
    "\n",
    "        out_o1 = self.o1.feedforward(np.array([out_h1, out_h2, out_h3]))\n",
    "\n",
    "        return out_o1\n",
    "\n",
    "    def back_prop():\n",
    "        pass"
   ]
  },
  {
   "cell_type": "code",
   "execution_count": 23,
   "metadata": {},
   "outputs": [
    {
     "data": {
      "text/plain": [
       "0.9335404768183254"
      ]
     },
     "execution_count": 23,
     "metadata": {},
     "output_type": "execute_result"
    }
   ],
   "source": [
    "nn = NeuralNet()\n",
    "x = [1,0,1]\n",
    "nn.feedforward(x)"
   ]
  },
  {
   "cell_type": "code",
   "execution_count": 24,
   "metadata": {},
   "outputs": [],
   "source": [
    "def mse_loss(y_true, y_pred):\n",
    "    return ((y_true - y_pred)**2).mean()"
   ]
  }
 ],
 "metadata": {
  "kernelspec": {
   "display_name": "Python 3",
   "language": "python",
   "name": "python3"
  },
  "language_info": {
   "codemirror_mode": {
    "name": "ipython",
    "version": 3
   },
   "file_extension": ".py",
   "mimetype": "text/x-python",
   "name": "python",
   "nbconvert_exporter": "python",
   "pygments_lexer": "ipython3",
   "version": "3.9.5"
  }
 },
 "nbformat": 4,
 "nbformat_minor": 2
}
